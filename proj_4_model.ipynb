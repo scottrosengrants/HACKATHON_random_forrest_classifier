{
 "cells": [
  {
   "cell_type": "markdown",
   "metadata": {},
   "source": [
    "# Project 4 Modeling \n",
    "\n",
    "**Authors: Scott Rosengrants, Megha Zavar**"
   ]
  },
  {
   "cell_type": "code",
   "execution_count": 119,
   "metadata": {},
   "outputs": [
    {
     "name": "stderr",
     "output_type": "stream",
     "text": [
      "/Users/scottrosengrants/opt/anaconda3/lib/python3.7/importlib/_bootstrap.py:219: RuntimeWarning: numpy.ufunc size changed, may indicate binary incompatibility. Expected 192 from C header, got 216 from PyObject\n",
      "  return f(*args, **kwds)\n"
     ]
    }
   ],
   "source": [
    "import pandas as pd\n",
    "from sklearn.ensemble import RandomForestClassifier, RandomForestRegressor\n",
    "from sklearn.model_selection import train_test_split\n",
    "from  sklearn.metrics import confusion_matrix\n",
    "import matplotlib.pyplot as plt\n",
    "import numpy as np\n",
    "from sklearn.pipeline import Pipeline\n",
    "from sklearn.model_selection import GridSearchCV\n",
    "from sklearn.metrics import accuracy_score\n",
    "import seaborn as sns"
   ]
  },
  {
   "cell_type": "code",
   "execution_count": 61,
   "metadata": {},
   "outputs": [],
   "source": [
    "#read in data\n",
    "train_wage = pd.read_csv(\"./data/train_clean.csv\")\n",
    "test_wage  = pd.read_csv(\"./data/test_clean.csv\")"
   ]
  },
  {
   "cell_type": "code",
   "execution_count": 62,
   "metadata": {},
   "outputs": [
    {
     "data": {
      "text/plain": [
       "Index(['age', 'fnlwgt', 'education-num', 'relationship', 'sex', 'capital-gain',\n",
       "       'capital-loss', 'hours-per-week', 'native-country',\n",
       "       'workclass_Local-gov', 'workclass_Never-worked', 'workclass_Private',\n",
       "       'workclass_Self-emp-inc', 'workclass_Self-emp-not-inc',\n",
       "       'workclass_State-gov', 'workclass_Unknown', 'workclass_Without-pay',\n",
       "       'marital-status_Married-AF-spouse', 'marital-status_Married-civ-spouse',\n",
       "       'marital-status_Married-spouse-absent', 'marital-status_Never-married',\n",
       "       'marital-status_Separated', 'marital-status_Widowed',\n",
       "       'occupation_Armed-Forces', 'occupation_Craft-repair',\n",
       "       'occupation_Exec-managerial', 'occupation_Farming-fishing',\n",
       "       'occupation_Handlers-cleaners', 'occupation_Machine-op-inspct',\n",
       "       'occupation_Other-service', 'occupation_Priv-house-serv',\n",
       "       'occupation_Prof-specialty', 'occupation_Protective-serv',\n",
       "       'occupation_Sales', 'occupation_Tech-support',\n",
       "       'occupation_Transport-moving', 'occupation_Unknown'],\n",
       "      dtype='object')"
      ]
     },
     "execution_count": 62,
     "metadata": {},
     "output_type": "execute_result"
    }
   ],
   "source": [
    "test_wage.columns"
   ]
  },
  {
   "cell_type": "code",
   "execution_count": 180,
   "metadata": {},
   "outputs": [],
   "source": [
    "#set features and target\n",
    "X = train_wage.drop(columns =['wage','relationship'])\n",
    "y = train_wage['wage']"
   ]
  },
  {
   "cell_type": "code",
   "execution_count": 181,
   "metadata": {},
   "outputs": [],
   "source": [
    "# split data for modeling\n",
    "X_train,X_test,y_train,y_test = train_test_split(X,y,stratify =y)"
   ]
  },
  {
   "cell_type": "code",
   "execution_count": 65,
   "metadata": {},
   "outputs": [
    {
     "data": {
      "text/plain": [
       "0    0.759173\n",
       "1    0.240827\n",
       "Name: wage, dtype: float64"
      ]
     },
     "execution_count": 65,
     "metadata": {},
     "output_type": "execute_result"
    }
   ],
   "source": [
    "#Evaluate Baseline for train\n",
    "y_train.value_counts(normalize=True)"
   ]
  },
  {
   "cell_type": "code",
   "execution_count": 66,
   "metadata": {},
   "outputs": [
    {
     "data": {
      "text/plain": [
       "0    0.759243\n",
       "1    0.240757\n",
       "Name: wage, dtype: float64"
      ]
     },
     "execution_count": 66,
     "metadata": {},
     "output_type": "execute_result"
    }
   ],
   "source": [
    "#Evaluate Baseline for test\n",
    "y_test.value_counts(normalize=True)"
   ]
  },
  {
   "cell_type": "code",
   "execution_count": 67,
   "metadata": {},
   "outputs": [
    {
     "name": "stderr",
     "output_type": "stream",
     "text": [
      "/Users/scottrosengrants/opt/anaconda3/lib/python3.7/site-packages/sklearn/ensemble/forest.py:245: FutureWarning: The default value of n_estimators will change from 10 in version 0.20 to 100 in 0.22.\n",
      "  \"10 in version 0.20 to 100 in 0.22.\", FutureWarning)\n"
     ]
    },
    {
     "data": {
      "text/plain": [
       "RandomForestClassifier(bootstrap=True, class_weight=None, criterion='gini',\n",
       "                       max_depth=None, max_features='auto', max_leaf_nodes=None,\n",
       "                       min_impurity_decrease=0.0, min_impurity_split=None,\n",
       "                       min_samples_leaf=1, min_samples_split=2,\n",
       "                       min_weight_fraction_leaf=0.0, n_estimators=10,\n",
       "                       n_jobs=None, oob_score=False, random_state=42, verbose=0,\n",
       "                       warm_start=False)"
      ]
     },
     "execution_count": 67,
     "metadata": {},
     "output_type": "execute_result"
    }
   ],
   "source": [
    "# Instantiate Random Forrest Model\n",
    "md = RandomForestClassifier(random_state=42)\n",
    "md.fit(X_train,y_train)"
   ]
  },
  {
   "cell_type": "code",
   "execution_count": 68,
   "metadata": {},
   "outputs": [
    {
     "data": {
      "text/plain": [
       "(0.9863226863226863, 0.8346640461859722)"
      ]
     },
     "execution_count": 68,
     "metadata": {},
     "output_type": "execute_result"
    }
   ],
   "source": [
    "# Check the train and test accuracy scores based on the default settings for Random Forrest\n",
    "md.score(X_train,y_train),md.score(X_test,y_test)"
   ]
  },
  {
   "cell_type": "code",
   "execution_count": 70,
   "metadata": {},
   "outputs": [],
   "source": [
    "y_train_pred = md.predict(X_train)"
   ]
  },
  {
   "cell_type": "code",
   "execution_count": 71,
   "metadata": {},
   "outputs": [
    {
     "data": {
      "text/plain": [
       "array([0, 1, 1, ..., 0, 0, 0])"
      ]
     },
     "execution_count": 71,
     "metadata": {},
     "output_type": "execute_result"
    }
   ],
   "source": [
    "y_train_pred"
   ]
  },
  {
   "cell_type": "code",
   "execution_count": 72,
   "metadata": {},
   "outputs": [],
   "source": [
    "predict_1 =md.predict_proba(X_train)[: ,1]"
   ]
  },
  {
   "cell_type": "code",
   "execution_count": 73,
   "metadata": {},
   "outputs": [],
   "source": [
    "results = pd.DataFrame()\n",
    "results['true_values'] = y_train\n",
    "results['predictions'] =y_train_pred\n",
    "results['pred_probs'] = predict_1\n"
   ]
  },
  {
   "cell_type": "code",
   "execution_count": 74,
   "metadata": {},
   "outputs": [
    {
     "data": {
      "text/html": [
       "<div>\n",
       "<style scoped>\n",
       "    .dataframe tbody tr th:only-of-type {\n",
       "        vertical-align: middle;\n",
       "    }\n",
       "\n",
       "    .dataframe tbody tr th {\n",
       "        vertical-align: top;\n",
       "    }\n",
       "\n",
       "    .dataframe thead th {\n",
       "        text-align: right;\n",
       "    }\n",
       "</style>\n",
       "<table border=\"1\" class=\"dataframe\">\n",
       "  <thead>\n",
       "    <tr style=\"text-align: right;\">\n",
       "      <th></th>\n",
       "      <th>true_values</th>\n",
       "      <th>predictions</th>\n",
       "      <th>pred_probs</th>\n",
       "    </tr>\n",
       "  </thead>\n",
       "  <tbody>\n",
       "    <tr>\n",
       "      <th>11344</th>\n",
       "      <td>0</td>\n",
       "      <td>0</td>\n",
       "      <td>0.0</td>\n",
       "    </tr>\n",
       "    <tr>\n",
       "      <th>22301</th>\n",
       "      <td>1</td>\n",
       "      <td>1</td>\n",
       "      <td>0.7</td>\n",
       "    </tr>\n",
       "    <tr>\n",
       "      <th>7499</th>\n",
       "      <td>1</td>\n",
       "      <td>1</td>\n",
       "      <td>0.9</td>\n",
       "    </tr>\n",
       "    <tr>\n",
       "      <th>10171</th>\n",
       "      <td>1</td>\n",
       "      <td>1</td>\n",
       "      <td>0.9</td>\n",
       "    </tr>\n",
       "    <tr>\n",
       "      <th>25545</th>\n",
       "      <td>0</td>\n",
       "      <td>0</td>\n",
       "      <td>0.1</td>\n",
       "    </tr>\n",
       "    <tr>\n",
       "      <th>...</th>\n",
       "      <td>...</td>\n",
       "      <td>...</td>\n",
       "      <td>...</td>\n",
       "    </tr>\n",
       "    <tr>\n",
       "      <th>15354</th>\n",
       "      <td>0</td>\n",
       "      <td>0</td>\n",
       "      <td>0.0</td>\n",
       "    </tr>\n",
       "    <tr>\n",
       "      <th>23923</th>\n",
       "      <td>0</td>\n",
       "      <td>0</td>\n",
       "      <td>0.0</td>\n",
       "    </tr>\n",
       "    <tr>\n",
       "      <th>8020</th>\n",
       "      <td>0</td>\n",
       "      <td>0</td>\n",
       "      <td>0.0</td>\n",
       "    </tr>\n",
       "    <tr>\n",
       "      <th>28101</th>\n",
       "      <td>0</td>\n",
       "      <td>0</td>\n",
       "      <td>0.2</td>\n",
       "    </tr>\n",
       "    <tr>\n",
       "      <th>2715</th>\n",
       "      <td>0</td>\n",
       "      <td>0</td>\n",
       "      <td>0.1</td>\n",
       "    </tr>\n",
       "  </tbody>\n",
       "</table>\n",
       "<p>24420 rows × 3 columns</p>\n",
       "</div>"
      ],
      "text/plain": [
       "       true_values  predictions  pred_probs\n",
       "11344            0            0         0.0\n",
       "22301            1            1         0.7\n",
       "7499             1            1         0.9\n",
       "10171            1            1         0.9\n",
       "25545            0            0         0.1\n",
       "...            ...          ...         ...\n",
       "15354            0            0         0.0\n",
       "23923            0            0         0.0\n",
       "8020             0            0         0.0\n",
       "28101            0            0         0.2\n",
       "2715             0            0         0.1\n",
       "\n",
       "[24420 rows x 3 columns]"
      ]
     },
     "execution_count": 74,
     "metadata": {},
     "output_type": "execute_result"
    }
   ],
   "source": [
    "# display results\n",
    "results"
   ]
  },
  {
   "cell_type": "code",
   "execution_count": 75,
   "metadata": {},
   "outputs": [
    {
     "data": {
      "text/html": [
       "<div>\n",
       "<style scoped>\n",
       "    .dataframe tbody tr th:only-of-type {\n",
       "        vertical-align: middle;\n",
       "    }\n",
       "\n",
       "    .dataframe tbody tr th {\n",
       "        vertical-align: top;\n",
       "    }\n",
       "\n",
       "    .dataframe thead th {\n",
       "        text-align: right;\n",
       "    }\n",
       "</style>\n",
       "<table border=\"1\" class=\"dataframe\">\n",
       "  <thead>\n",
       "    <tr style=\"text-align: right;\">\n",
       "      <th>True</th>\n",
       "      <th>-ve</th>\n",
       "      <th>+ve</th>\n",
       "      <th>All</th>\n",
       "    </tr>\n",
       "    <tr>\n",
       "      <th>predicted</th>\n",
       "      <th></th>\n",
       "      <th></th>\n",
       "      <th></th>\n",
       "    </tr>\n",
       "  </thead>\n",
       "  <tbody>\n",
       "    <tr>\n",
       "      <th>-ve</th>\n",
       "      <td>18493</td>\n",
       "      <td>288</td>\n",
       "      <td>18539</td>\n",
       "    </tr>\n",
       "    <tr>\n",
       "      <th>+ve</th>\n",
       "      <td>46</td>\n",
       "      <td>5593</td>\n",
       "      <td>5881</td>\n",
       "    </tr>\n",
       "    <tr>\n",
       "      <th>All</th>\n",
       "      <td>18781</td>\n",
       "      <td>5639</td>\n",
       "      <td>24420</td>\n",
       "    </tr>\n",
       "  </tbody>\n",
       "</table>\n",
       "</div>"
      ],
      "text/plain": [
       "True         -ve   +ve    All\n",
       "predicted                    \n",
       "-ve        18493   288  18539\n",
       " +ve          46  5593   5881\n",
       "All        18781  5639  24420"
      ]
     },
     "execution_count": 75,
     "metadata": {},
     "output_type": "execute_result"
    }
   ],
   "source": [
    "#create a confusion matrix\n",
    "cmetrix = pd.crosstab(results['true_values'],results['predictions'],rownames=[True] ,colnames=['predicted'],margins=True)\n",
    "cmetrix  = cmetrix.rename(columns= {0 : '-ve' , 1 : ' +ve'},index={0 : '-ve' , 1 : ' +ve'})\n",
    "cmetrix"
   ]
  },
  {
   "cell_type": "code",
   "execution_count": 76,
   "metadata": {},
   "outputs": [
    {
     "data": {
      "text/plain": [
       "<matplotlib.collections.PathCollection at 0x1a3e74fb10>"
      ]
     },
     "execution_count": 76,
     "metadata": {},
     "output_type": "execute_result"
    },
    {
     "data": {
      "image/png": "[encoded data removed]",
      "text/plain": [
       "<Figure size 432x288 with 1 Axes>"
      ]
     },
     "metadata": {
      "needs_background": "light"
     },
     "output_type": "display_data"
    }
   ],
   "source": [
    "#plot predictions and prediction probabilities\n",
    "plt.scatter(results['predictions'],results['pred_probs'] )"
   ]
  },
  {
   "cell_type": "code",
   "execution_count": 77,
   "metadata": {},
   "outputs": [
    {
     "data": {
      "text/plain": [
       "<matplotlib.collections.PathCollection at 0x1a3e74fed0>"
      ]
     },
     "execution_count": 77,
     "metadata": {},
     "output_type": "execute_result"
    },
    {
     "data": {
      "image/png": "[encoded data removed]",
      "text/plain": [
       "<Figure size 432x288 with 1 Axes>"
      ]
     },
     "metadata": {
      "needs_background": "light"
     },
     "output_type": "display_data"
    }
   ],
   "source": [
    "# plot true values and prediction probabilities\n",
    "plt.scatter(results['true_values'],results['pred_probs'] )"
   ]
  },
  {
   "cell_type": "code",
   "execution_count": 78,
   "metadata": {},
   "outputs": [
    {
     "data": {
      "image/png": "[encoded data removed]",
      "text/plain": [
       "<Figure size 720x504 with 1 Axes>"
      ]
     },
     "metadata": {
      "needs_background": "light"
     },
     "output_type": "display_data"
    }
   ],
   "source": [
    "#Plot the ROC curve\n",
    "\n",
    "# Create figure.\n",
    "plt.figure(figsize = (10,7))\n",
    "# Create threshold values.\n",
    "thresholds = np.linspace(0, 1, 200)\n",
    "# Define function to calculate sensitivity. (True positive rate.)\n",
    "\n",
    "def TPR(df, true_col, pred_prob_col, threshold):\n",
    "    true_positive = df[(df[true_col] == 1) & (df[pred_prob_col] >= threshold)].shape[0]\n",
    "    false_negative = df[(df[true_col] == 1) & (df[pred_prob_col] < threshold)].shape[0]\n",
    "    return true_positive / (true_positive + false_negative)\n",
    "# Define function to calculate 1 - specificity. (False positive rate.)\n",
    "def FPR(df, true_col, pred_prob_col, threshold):\n",
    "    true_negative = df[(df[true_col] == 0) & (df[pred_prob_col] <= threshold)].shape[0]\n",
    "    false_positive = df[(df[true_col] == 0) & (df[pred_prob_col] > threshold)].shape[0]\n",
    "    return 1 - (true_negative / (true_negative + false_positive))\n",
    "\n",
    "# Calculate sensitivity & 1-specificity for each threshold between 0 and 1.\n",
    "tpr_values = [TPR(results, 'true_values', 'pred_probs', prob) for prob in thresholds]\n",
    "fpr_values = [FPR(results, 'true_values', 'pred_probs', prob) for prob in thresholds]\n",
    "# Plot ROC curve.\n",
    "plt.plot(fpr_values, # False Positive Rate on X-axis\n",
    "         tpr_values, # True Positive Rate on Y-axis\n",
    "         label='ROC Curve')\n",
    "# Plot baseline. (Perfect overlap between the two populations.)\n",
    "plt.plot(np.linspace(0, 1, 200),\n",
    "         np.linspace(0, 1, 200),\n",
    "         label='baseline',\n",
    "         linestyle='--')\n",
    "# Label axes.\n",
    "plt.title('Receiver Operating Characteristic Curve', fontsize=22)\n",
    "plt.ylabel('Sensitivity', fontsize=18)\n",
    "plt.xlabel('1 - Specificity', fontsize=18)\n",
    "# Create legend.\n",
    "plt.legend(fontsize=16);"
   ]
  },
  {
   "cell_type": "markdown",
   "metadata": {},
   "source": [
    "# Prediction for real test dataset \n",
    "(used to create the submission csv)"
   ]
  },
  {
   "cell_type": "code",
   "execution_count": 175,
   "metadata": {},
   "outputs": [],
   "source": [
    "test_features = test_wage[small_list]"
   ]
  },
  {
   "cell_type": "code",
   "execution_count": 176,
   "metadata": {},
   "outputs": [],
   "source": [
    "def predict_classifier(md,X ):\n",
    "    predictions_comp = md.predict(X)\n",
    "    predict_1 =md.predict_proba(X)[: ,1]\n",
    "    df = pd.DataFrame(predict_1, columns=['wage'])\n",
    "    \n",
    "    return df"
   ]
  },
  {
   "cell_type": "code",
   "execution_count": 177,
   "metadata": {},
   "outputs": [],
   "source": [
    "submission_df = predict_classifier(gs , test_features)"
   ]
  },
  {
   "cell_type": "code",
   "execution_count": 178,
   "metadata": {},
   "outputs": [],
   "source": [
    "submission_df.to_csv(\"./data/submission_sm.csv\" ,index=False)"
   ]
  },
  {
   "cell_type": "markdown",
   "metadata": {},
   "source": [
    "## Model Optimization using Gridsearch"
   ]
  },
  {
   "cell_type": "code",
   "execution_count": 182,
   "metadata": {},
   "outputs": [
    {
     "name": "stdout",
     "output_type": "stream",
     "text": [
      "Best params: {'max_depth': 10, 'n_estimators': 200}\n",
      "Best score: 0.8452\n",
      "Test score 0.8388\n"
     ]
    }
   ],
   "source": [
    "#Model #1\n",
    "#create params \n",
    "rf_params = {\n",
    "    'n_estimators' : [100, 150, 200],\n",
    "    'max_depth' : [None, 10, 5]\n",
    "        \n",
    "}\n",
    "\n",
    "#create grid search\n",
    "gs = GridSearchCV(md,rf_params, cv = 5)\n",
    "gs.fit(X_train,y_train)\n",
    "\n",
    "print(f'Best params: {gs.best_params_}')\n",
    "print(f'Best score: {np.round(gs.best_score_,4)}')\n",
    "print(f'Test score {np.round(gs.score(X_test,y_test),4)}')"
   ]
  },
  {
   "cell_type": "code",
   "execution_count": 183,
   "metadata": {},
   "outputs": [
    {
     "name": "stdout",
     "output_type": "stream",
     "text": [
      "Best params: {'max_depth': 20, 'n_estimators': 400}\n",
      "Best score: 0.8472\n",
      "Test score 0.8413\n"
     ]
    }
   ],
   "source": [
    "#Model #2\n",
    "#create params \n",
    "rf_params = {\n",
    "    'n_estimators' : [200,300,400],\n",
    "    'max_depth' : [7,10,20]\n",
    "        \n",
    "}\n",
    "\n",
    "#create grid search\n",
    "gs = GridSearchCV(md,rf_params, cv = 5)\n",
    "gs.fit(X_train,y_train)\n",
    "\n",
    "print(f'Best params: {gs.best_params_}')\n",
    "print(f'Best score: {np.round(gs.best_score_,4)}')\n",
    "print(f'Test score {np.round(gs.score(X_test,y_test),4)}')"
   ]
  },
  {
   "cell_type": "code",
   "execution_count": 184,
   "metadata": {},
   "outputs": [
    {
     "name": "stdout",
     "output_type": "stream",
     "text": [
      "Best params: {'criterion': 'gini', 'max_depth': 10, 'n_estimators': 200}\n",
      "Best score: 0.8452\n",
      "Test score 0.8388\n"
     ]
    }
   ],
   "source": [
    "#Model #3\n",
    "#create params \n",
    "rf_params = {\n",
    "    'n_estimators' : [200],\n",
    "    'max_depth' : [10], #optimized\n",
    "    'criterion' : ['gini', 'entropy']\n",
    "        \n",
    "}\n",
    "\n",
    "#create grid search\n",
    "gs = GridSearchCV(md,rf_params, cv = 5)\n",
    "gs.fit(X_train,y_train)\n",
    "\n",
    "print(f'Best params: {gs.best_params_}')\n",
    "print(f'Best score: {np.round(gs.best_score_,4)}')\n",
    "print(f'Test score {np.round(gs.score(X_test,y_test),4)}')"
   ]
  },
  {
   "cell_type": "code",
   "execution_count": 185,
   "metadata": {},
   "outputs": [
    {
     "name": "stdout",
     "output_type": "stream",
     "text": [
      "Best params: {'criterion': 'gini', 'max_depth': 10, 'max_features': 'auto', 'n_estimators': 200}\n",
      "Best score: 0.8452\n",
      "Test score 0.8388\n"
     ]
    }
   ],
   "source": [
    "#Model #4\n",
    "#create params \n",
    "rf_params = {\n",
    "    'n_estimators' : [200],\n",
    "    'max_depth' : [10], #optimized\n",
    "    'criterion' : ['gini'], #optimized\n",
    "    'max_features' : ['auto','sqrt']\n",
    "        \n",
    "}\n",
    "\n",
    "#create grid search\n",
    "gs = GridSearchCV(md,rf_params, cv = 5)\n",
    "gs.fit(X_train,y_train)\n",
    "\n",
    "print(f'Best params: {gs.best_params_}')\n",
    "print(f'Best score: {np.round(gs.best_score_,4)}')\n",
    "print(f'Test score {np.round(gs.score(X_test,y_test),4)}')"
   ]
  },
  {
   "cell_type": "code",
   "execution_count": 186,
   "metadata": {},
   "outputs": [
    {
     "name": "stdout",
     "output_type": "stream",
     "text": [
      "Best params: {'criterion': 'gini', 'max_depth': 10, 'max_features': 'auto', 'min_samples_leaf': 1, 'min_samples_split': 2, 'n_estimators': 200}\n",
      "Best score: 0.8452\n",
      "Test score 0.8388\n"
     ]
    }
   ],
   "source": [
    "#Model #5\n",
    "#create params \n",
    "rf_params = {\n",
    "    'n_estimators' : [200],\n",
    "    'max_depth' : [10], #optimized\n",
    "    'criterion' : ['gini'], #optimized\n",
    "    'max_features' : ['auto'], #optimized\n",
    "    'min_samples_split' : [2,5,10],\n",
    "    'min_samples_leaf' :[1,2,4]\n",
    "         \n",
    "}\n",
    "\n",
    "#create grid search\n",
    "gs = GridSearchCV(md,rf_params, cv = 5)\n",
    "gs.fit(X_train,y_train)\n",
    "\n",
    "print(f'Best params: {gs.best_params_}')\n",
    "print(f'Best score: {np.round(gs.best_score_,4)}')\n",
    "print(f'Test score {np.round(gs.score(X_test,y_test),4)}')"
   ]
  },
  {
   "cell_type": "code",
   "execution_count": 187,
   "metadata": {},
   "outputs": [
    {
     "name": "stdout",
     "output_type": "stream",
     "text": [
      "Best params: {'bootstrap': True, 'criterion': 'gini', 'max_depth': 10, 'max_features': 'auto', 'min_samples_leaf': 1, 'min_samples_split': 2, 'n_estimators': 200}\n",
      "Best score: 0.8452\n",
      "Test score 0.8388\n"
     ]
    }
   ],
   "source": [
    "#Model #6\n",
    "#create params \n",
    "rf_params = {\n",
    "    'n_estimators' : [200],\n",
    "    'max_depth' : [10], #optimized\n",
    "    'criterion' : ['gini'], #optimized\n",
    "    'max_features' : ['auto'], #optimized\n",
    "    'min_samples_split' : [2],\n",
    "    'min_samples_leaf' :[1],\n",
    "    'bootstrap' :[True, False],\n",
    "    \n",
    "         \n",
    "}\n",
    "\n",
    "#create grid search\n",
    "gs = GridSearchCV(md,rf_params, cv = 5)\n",
    "gs.fit(X_train,y_train)\n",
    "\n",
    "print(f'Best params: {gs.best_params_}')\n",
    "print(f'Best score: {np.round(gs.best_score_,4)}')\n",
    "print(f'Test score {np.round(gs.score(X_test,y_test),4)}')"
   ]
  },
  {
   "cell_type": "code",
   "execution_count": 188,
   "metadata": {},
   "outputs": [
    {
     "name": "stdout",
     "output_type": "stream",
     "text": [
      "Best params: {'bootstrap': True, 'criterion': 'gini', 'max_depth': 10, 'max_features': 'auto', 'min_samples_leaf': 1, 'min_samples_split': 2, 'n_estimators': 200}\n",
      "Best score: 0.8452\n",
      "Test score 0.8388\n"
     ]
    }
   ],
   "source": [
    "#Model #7\n",
    "#create params \n",
    "rf_params = {\n",
    "    'n_estimators' : [200],\n",
    "    'max_depth' : [10], #optimized\n",
    "    'criterion' : ['gini'], #optimized\n",
    "    'max_features' : ['auto', None, 'log2'], \n",
    "    'min_samples_split' : [2], #optimized\n",
    "    'min_samples_leaf' :[1], #optimized\n",
    "    'bootstrap' :[True], #optimized\n",
    "    \n",
    "         \n",
    "}\n",
    "\n",
    "#create grid search\n",
    "gs = GridSearchCV(md,rf_params, cv = 5)\n",
    "gs.fit(X_train,y_train)\n",
    "\n",
    "print(f'Best params: {gs.best_params_}')\n",
    "print(f'Best score: {np.round(gs.best_score_,4)}')\n",
    "print(f'Test score {np.round(gs.score(X_test,y_test),4)}')"
   ]
  },
  {
   "cell_type": "code",
   "execution_count": 189,
   "metadata": {},
   "outputs": [
    {
     "name": "stdout",
     "output_type": "stream",
     "text": [
      "Best params: {'bootstrap': True, 'criterion': 'gini', 'max_depth': 10, 'max_features': 'auto', 'min_samples_leaf': 1, 'min_samples_split': 2, 'n_estimators': 200}\n",
      "Best score: 0.8452\n",
      "Test score 0.8388\n"
     ]
    }
   ],
   "source": [
    "#Model #8 added 'fnlwgt' as a feature\n",
    "#create params \n",
    "rf_params = {\n",
    "    'n_estimators' : [200],\n",
    "    'max_depth' : [10], #optimized\n",
    "    'criterion' : ['gini'], #optimized\n",
    "    'max_features' : ['auto'], #optimized\n",
    "    'min_samples_split' : [2], #optimized\n",
    "    'min_samples_leaf' :[1], #optimized\n",
    "    'bootstrap' :[True], #optimized\n",
    "    \n",
    "    \n",
    "         \n",
    "}\n",
    "\n",
    "#create grid search\n",
    "gs = GridSearchCV(md,rf_params, cv = 5)\n",
    "gs.fit(X_train,y_train)\n",
    "\n",
    "print(f'Best params: {gs.best_params_}')\n",
    "print(f'Best score: {np.round(gs.best_score_,4)}')\n",
    "print(f'Test score {np.round(gs.score(X_test,y_test),4)}')"
   ]
  },
  {
   "cell_type": "code",
   "execution_count": 190,
   "metadata": {},
   "outputs": [
    {
     "name": "stdout",
     "output_type": "stream",
     "text": [
      "Best params: {'bootstrap': True, 'max_depth': 10, 'max_features': 'auto', 'min_samples_leaf': 1, 'min_samples_split': 2, 'n_estimators': 1000}\n",
      "Best score: 0.8453\n",
      "Test score 0.8396\n"
     ]
    }
   ],
   "source": [
    "#Model #8.1 added 'fnlwgt'\n",
    "#create params \n",
    "rf_params = {\n",
    "    'n_estimators' : [1000],\n",
    "    'max_depth' : [10], #optimized\n",
    "    'max_features' : ['auto'], #optimized\n",
    "    'min_samples_split' : [2], #optimized\n",
    "    'min_samples_leaf' :[1], #optimized\n",
    "    'bootstrap' :[True], #optimized\n",
    "    \n",
    "       \n",
    "}\n",
    "\n",
    "#create grid search\n",
    "gs = GridSearchCV(md,rf_params, cv = 5)\n",
    "gs.fit(X_train,y_train)\n",
    "\n",
    "print(f'Best params: {gs.best_params_}')\n",
    "print(f'Best score: {np.round(gs.best_score_,4)}')\n",
    "print(f'Test score {np.round(gs.score(X_test,y_test),4)}')"
   ]
  },
  {
   "cell_type": "code",
   "execution_count": 191,
   "metadata": {},
   "outputs": [
    {
     "name": "stdout",
     "output_type": "stream",
     "text": [
      "Best params: {'bootstrap': True, 'max_depth': 10, 'max_features': 'auto', 'min_samples_leaf': 1, 'min_samples_split': 2, 'n_estimators': 200}\n",
      "Best score: 0.8452\n",
      "Test score 0.8388\n"
     ]
    }
   ],
   "source": [
    "#Model #9 feature selection\n",
    "#create params \n",
    "rf_params = {\n",
    "    'n_estimators' : [200],\n",
    "    'max_depth' : [10], #optimized\n",
    "    'max_features' : ['auto'], #optimized\n",
    "    'min_samples_split' : [2], #optimized\n",
    "    'min_samples_leaf' :[1], #optimized\n",
    "    'bootstrap' :[True], #optimized\n",
    "    \n",
    "       \n",
    "}\n",
    "\n",
    "#create grid search\n",
    "gs = GridSearchCV(md,rf_params, cv = 5)\n",
    "gs.fit(X_train,y_train)\n",
    "\n",
    "print(f'Best params: {gs.best_params_}')\n",
    "print(f'Best score: {np.round(gs.best_score_,4)}')\n",
    "print(f'Test score {np.round(gs.score(X_test,y_test),4)}')"
   ]
  },
  {
   "cell_type": "code",
   "execution_count": 192,
   "metadata": {},
   "outputs": [
    {
     "name": "stdout",
     "output_type": "stream",
     "text": [
      "Best params: {'bootstrap': True, 'max_depth': 10, 'max_features': 'auto', 'min_samples_leaf': 1, 'min_samples_split': 2, 'n_estimators': 200}\n",
      "Best score: 0.8452\n",
      "Test score 0.8388\n"
     ]
    }
   ],
   "source": [
    "#Model #10 feature selection\n",
    "#create params \n",
    "rf_params = {\n",
    "    'n_estimators' : [200],\n",
    "    'max_depth' : [10], #optimized\n",
    "    'max_features' : ['auto'], #optimized\n",
    "    'min_samples_split' : [2], #optimized\n",
    "    'min_samples_leaf' :[1], #optimized\n",
    "    'bootstrap' :[True], #optimized\n",
    "    \n",
    "       \n",
    "}\n",
    "\n",
    "#create grid search\n",
    "gs = GridSearchCV(md,rf_params, cv = 5)\n",
    "gs.fit(X_train,y_train)\n",
    "\n",
    "print(f'Best params: {gs.best_params_}')\n",
    "print(f'Best score: {np.round(gs.best_score_,4)}')\n",
    "print(f'Test score {np.round(gs.score(X_test,y_test),4)}')"
   ]
  },
  {
   "cell_type": "markdown",
   "metadata": {},
   "source": [
    "### Feature Selection and test on best model"
   ]
  },
  {
   "cell_type": "code",
   "execution_count": 193,
   "metadata": {},
   "outputs": [
    {
     "data": {
      "text/plain": [
       "<matplotlib.axes._subplots.AxesSubplot at 0x1a47f86390>"
      ]
     },
     "execution_count": 193,
     "metadata": {},
     "output_type": "execute_result"
    },
    {
     "data": {
      "image/png": "[encoded data removed]",
      "text/plain": [
       "<Figure size 432x864 with 2 Axes>"
      ]
     },
     "metadata": {
      "needs_background": "light"
     },
     "output_type": "display_data"
    }
   ],
   "source": [
    "#view the correlation of all features as they relate to the target\n",
    "feature_core = train_wage.corr()[['wage']].sort_values(by='wage',ascending=False)\n",
    "plt.figure(figsize=(6,12))  # 6 by 12 inch to make plot bigger\n",
    "sns.heatmap(feature_core, vmin=-1,vmax=1,cmap='coolwarm',annot=True)"
   ]
  },
  {
   "cell_type": "code",
   "execution_count": 194,
   "metadata": {},
   "outputs": [],
   "source": [
    "# filter the features down to only those with a stron correlation\n",
    "small_features = feature_core[(feature_core['wage'] > .1) | (feature_core['wage'] < -.1)]"
   ]
  },
  {
   "cell_type": "code",
   "execution_count": 195,
   "metadata": {},
   "outputs": [
    {
     "name": "stderr",
     "output_type": "stream",
     "text": [
      "/Users/scottrosengrants/opt/anaconda3/lib/python3.7/site-packages/pandas/core/frame.py:4117: SettingWithCopyWarning: \n",
      "A value is trying to be set on a copy of a slice from a DataFrame\n",
      "\n",
      "See the caveats in the documentation: http://pandas.pydata.org/pandas-docs/stable/user_guide/indexing.html#returning-a-view-versus-a-copy\n",
      "  errors=errors,\n"
     ]
    }
   ],
   "source": [
    "small_features.drop(index = 'wage' , inplace=True)"
   ]
  },
  {
   "cell_type": "code",
   "execution_count": 196,
   "metadata": {},
   "outputs": [],
   "source": [
    "#create a features list\n",
    "small_list = list(small_features.index)"
   ]
  },
  {
   "cell_type": "code",
   "execution_count": 197,
   "metadata": {},
   "outputs": [
    {
     "data": {
      "text/plain": [
       "['marital-status_Married-civ-spouse',\n",
       " 'education-num',\n",
       " 'capital-gain',\n",
       " 'age',\n",
       " 'hours-per-week',\n",
       " 'occupation_Exec-managerial',\n",
       " 'occupation_Prof-specialty',\n",
       " 'workclass_Self-emp-inc',\n",
       " 'capital-loss',\n",
       " 'occupation_Other-service',\n",
       " 'sex',\n",
       " 'marital-status_Never-married']"
      ]
     },
     "execution_count": 197,
     "metadata": {},
     "output_type": "execute_result"
    }
   ],
   "source": [
    "#view list\n",
    "small_list"
   ]
  },
  {
   "cell_type": "code",
   "execution_count": 198,
   "metadata": {},
   "outputs": [],
   "source": [
    "# recreate the X and y variables using new features\n",
    "X = train_wage[small_list]\n",
    "y = train_wage['wage']"
   ]
  },
  {
   "cell_type": "code",
   "execution_count": 199,
   "metadata": {},
   "outputs": [],
   "source": [
    "#split data\n",
    "X_train,X_test,y_train,y_test = train_test_split(X,y,stratify =y)"
   ]
  },
  {
   "cell_type": "code",
   "execution_count": 200,
   "metadata": {},
   "outputs": [
    {
     "name": "stdout",
     "output_type": "stream",
     "text": [
      "Best params: {'bootstrap': True, 'max_depth': 10, 'max_features': 'auto', 'min_samples_leaf': 1, 'min_samples_split': 2, 'n_estimators': 200}\n",
      "Best score: 0.8434\n",
      "Test score 0.8449\n"
     ]
    }
   ],
   "source": [
    "# run best optimized model #9 using the new (smaller) features set\n",
    "\n",
    "#create params \n",
    "rf_params = {\n",
    "    'n_estimators' : [200],\n",
    "    'max_depth' : [10], #optimized\n",
    "    'max_features' : ['auto'], #optimized\n",
    "    'min_samples_split' : [2], #optimized\n",
    "    'min_samples_leaf' :[1], #optimized\n",
    "    'bootstrap' :[True], #optimized\n",
    "    \n",
    "       \n",
    "}\n",
    "\n",
    "#create grid search\n",
    "gs = GridSearchCV(md,rf_params, cv = 5)\n",
    "gs.fit(X_train,y_train)\n",
    "\n",
    "print(f'Best params: {gs.best_params_}')\n",
    "print(f'Best score: {np.round(gs.best_score_,4)}')\n",
    "print(f'Test score {np.round(gs.score(X_test,y_test),4)}')"
   ]
  },
  {
   "cell_type": "markdown",
   "metadata": {},
   "source": [
    "#### The new simpler and smaller features list when paired with the optimized Random Forrest  performed the best and had the highest accuracy score out of all the attempts. Its test accuracy was also higher than the train accuracy indicating the Random Forrest is no longer overfit. "
   ]
  }
 ],
 "metadata": {
  "kernelspec": {
   "display_name": "Python 3",
   "language": "python",
   "name": "python3"
  },
  "language_info": {
   "codemirror_mode": {
    "name": "ipython",
    "version": 3
   },
   "file_extension": ".py",
   "mimetype": "text/x-python",
   "name": "python",
   "nbconvert_exporter": "python",
   "pygments_lexer": "ipython3",
   "version": "3.7.4"
  }
 },
 "nbformat": 4,
 "nbformat_minor": 2
}
